{
 "cells": [
  {
   "cell_type": "markdown",
   "metadata": {},
   "source": [
    "Welcome to week 2 assignment. I hope you have completed the week 1 assignment and got to learn about Statistics in detail. This week we will be discussing one of the most important part of Data preparation, i.e. EDA (Explaratory Data Analysis). You will be provided some real-life data with this assignment that you need to send solutions for. This assignment, like last week, will be in R. "
   ]
  },
  {
   "cell_type": "markdown",
   "metadata": {},
   "source": [
    "**Exploratory Data Analysis (EDA)**, also known as Data Exploration, is a step in the Data Analysis Process, where a number of techniques are used to better understand the dataset being used.Once you have formulated your hypothesis, you can jump to performing an EDA to start finding the answers yourself.\n",
    "\n",
    "EDA is an iterative cycle. You:\n",
    "\n",
    "1. Generate questions about your data.\n",
    "\n",
    "2. Search for answers by visualising, transforming, and modelling your data.\n",
    "\n",
    "3. Use what you learn to refine your questions and/or generate new questions.\n",
    "\n",
    "EDA is an important part of your data analysis. You need to be sure of the data you are feeding to your model. Data cleaning is just one application of EDA: you ask questions about whether your data meets your expectations or not. To do data cleaning, you’ll need to deploy all the tools of EDA: visualisation, transformation, and modelling. \n",
    "\n",
    "I will perform an EDA to a very simple dataset, the stats on road accidents in India so that it becomes easier for you to understand everything. "
   ]
  },
  {
   "cell_type": "markdown",
   "metadata": {},
   "source": [
    "EDA is about asking questions. Just like every other analysis, the quality of questions you ask becomes more impotrtant than quantity of questions you ask. \n",
    "\n",
    "It is highly unlikely that you will find the questions as soon as you start the analysis because you data might contain more or less insights than you expected it had. However, it is an important thing to do because this is what will make you more familiar with the data. If you brainstorm and spend time with data, it will lead to even more follow-up questions that you might have ignored somehow. \n",
    "\n",
    "As we read in our last week module, there are two main types of Statistical analysis that we do on a data; **descriptive statistics** and **inferential statistics**. While these both are tools that can be used to analyze data, they might not be used at once. They might be used after different iterations over the period of time. The descriptive statistics is more of numerical in nature and can be found out using formulae. Inferential statistics is a subjective analysis of the data in hand using and supplementing the descriptive statistics parameters that we have. "
   ]
  },
  {
   "cell_type": "markdown",
   "metadata": {},
   "source": [
    "**Descriptive statistics include:**\n",
    "\n",
    "Mean- arithmetic average\n",
    "\n",
    "Median - middle value\n",
    "\n",
    "Mode - most frequent value\n",
    "\n",
    "Standard Deviation - variation around the mean\n",
    "\n",
    "Interquartile Range - range encompasses 50% of the values\n",
    "\n",
    "Kurtosis - peakedness of the data distribution\n",
    "\n",
    "Skewness - symmetry of the data distribution\n",
    "\n",
    "**Graphical methods include:**\n",
    "\n",
    "Histogram - a bar plot where each bar represents the frequency of observations for a given range of values\n",
    "\n",
    "Density estimation - an estimation of the frequency distribution based on the sample data\n",
    "\n",
    "Quantile-quantile plot - a plot of the actual data values against a normal distribution\n",
    "\n",
    "Box plots - a visual representation of median, quartiles, symmetry, skewness, and outliers\n",
    "\n",
    "Scatter plots - a graphical display of one variable plotted on the x axis and another on the y axis\n",
    "\n",
    "Radial plots - plots formatted for the representation of circular data"
   ]
  },
  {
   "cell_type": "markdown",
   "metadata": {},
   "source": [
    "## Performing the EDA "
   ]
  },
  {
   "cell_type": "markdown",
   "metadata": {},
   "source": [
    "As discussed before, I will be performing an EDA on the data at hand which the statistics of road accidents in India in the year 2014. I want to analyze this data and find out patterns so that frequenecy of accidents can be reduced and more lives can be saved with the help of targeted action. \n",
    "\n",
    "Let us start by importing the data to our notebook:"
   ]
  },
  {
   "cell_type": "code",
   "execution_count": 2,
   "metadata": {},
   "outputs": [],
   "source": [
    "road <- read.csv(file=\"C:\\\\Users\\\\shash\\\\Desktop\\\\roaddata.csv\")"
   ]
  },
  {
   "cell_type": "code",
   "execution_count": 3,
   "metadata": {},
   "outputs": [
    {
     "data": {
      "text/html": [
       "<table>\n",
       "<thead><tr><th scope=col>STATE.UT</th><th scope=col>X12TO3AM</th><th scope=col>X3TO6AM</th><th scope=col>X6TO9AM</th><th scope=col>X9TO12AM</th><th scope=col>X12TO3PM</th><th scope=col>X3TO6PM</th><th scope=col>X6TO9PM</th><th scope=col>X9TO12PM</th><th scope=col>Total</th><th scope=col>Population</th></tr></thead>\n",
       "<tbody>\n",
       "\t<tr><td><span style=white-space:pre-wrap>A &amp; N Islands    </span></td><td><span style=white-space:pre-wrap>   4</span>                 </td><td><span style=white-space:pre-wrap>   6</span>                 </td><td><span style=white-space:pre-wrap>  25</span>                 </td><td><span style=white-space:pre-wrap>  28</span>                 </td><td><span style=white-space:pre-wrap>  55</span>                 </td><td><span style=white-space:pre-wrap>  36</span>                 </td><td><span style=white-space:pre-wrap>  41</span>                 </td><td><span style=white-space:pre-wrap>  23</span>                 </td><td><span style=white-space:pre-wrap>  218</span>                </td><td><span style=white-space:pre-wrap>   380581</span>            </td></tr>\n",
       "\t<tr><td>Andhra Pradesh   </td><td>3336             </td><td>4466             </td><td>4312             </td><td>5631             </td><td>5882             </td><td>6669             </td><td>7177             </td><td>5759             </td><td>43232            </td><td> 49577103        </td></tr>\n",
       "\t<tr><td>Arunachal Pradesh</td><td>   6             </td><td>   5             </td><td>  13             </td><td>  24             </td><td>  26             </td><td>  45             </td><td>  36             </td><td>  30             </td><td>  185            </td><td>  1383727        </td></tr>\n",
       "\t<tr><td>Assam            </td><td> 212             </td><td> 277             </td><td> 939             </td><td>1475             </td><td>1225             </td><td>1438             </td><td>1023             </td><td> 555             </td><td> 7144            </td><td> 31205576        </td></tr>\n",
       "\t<tr><td>Bihar            </td><td> 672             </td><td> 987             </td><td>1429             </td><td>1429             </td><td>1460             </td><td>1421             </td><td>1262             </td><td> 871             </td><td> 9531            </td><td>104099452        </td></tr>\n",
       "\t<tr><td>Chandigarh       </td><td>  32             </td><td>  29             </td><td>  42             </td><td>  51             </td><td>  41             </td><td>  56             </td><td>  66             </td><td>  49             </td><td>  366            </td><td>  1055450        </td></tr>\n",
       "</tbody>\n",
       "</table>\n"
      ],
      "text/latex": [
       "\\begin{tabular}{r|lllllllllll}\n",
       " STATE.UT & X12TO3AM & X3TO6AM & X6TO9AM & X9TO12AM & X12TO3PM & X3TO6PM & X6TO9PM & X9TO12PM & Total & Population\\\\\n",
       "\\hline\n",
       "\t A \\& N Islands     &    4                &    6                &   25                &   28                &   55                &   36                &   41                &   23                &   218               &    380581          \\\\\n",
       "\t Andhra Pradesh    & 3336              & 4466              & 4312              & 5631              & 5882              & 6669              & 7177              & 5759              & 43232             &  49577103        \\\\\n",
       "\t Arunachal Pradesh &    6              &    5              &   13              &   24              &   26              &   45              &   36              &   30              &   185             &   1383727        \\\\\n",
       "\t Assam             &  212              &  277              &  939              & 1475              & 1225              & 1438              & 1023              &  555              &  7144             &  31205576        \\\\\n",
       "\t Bihar             &  672              &  987              & 1429              & 1429              & 1460              & 1421              & 1262              &  871              &  9531             & 104099452        \\\\\n",
       "\t Chandigarh        &   32              &   29              &   42              &   51              &   41              &   56              &   66              &   49              &   366             &   1055450        \\\\\n",
       "\\end{tabular}\n"
      ],
      "text/markdown": [
       "\n",
       "| STATE.UT | X12TO3AM | X3TO6AM | X6TO9AM | X9TO12AM | X12TO3PM | X3TO6PM | X6TO9PM | X9TO12PM | Total | Population |\n",
       "|---|---|---|---|---|---|---|---|---|---|---|\n",
       "| A & N Islands     |    4              |    6              |   25              |   28              |   55              |   36              |   41              |   23              |   218             |    380581         |\n",
       "| Andhra Pradesh    | 3336              | 4466              | 4312              | 5631              | 5882              | 6669              | 7177              | 5759              | 43232             |  49577103         |\n",
       "| Arunachal Pradesh |    6              |    5              |   13              |   24              |   26              |   45              |   36              |   30              |   185             |   1383727         |\n",
       "| Assam             |  212              |  277              |  939              | 1475              | 1225              | 1438              | 1023              |  555              |  7144             |  31205576         |\n",
       "| Bihar             |  672              |  987              | 1429              | 1429              | 1460              | 1421              | 1262              |  871              |  9531             | 104099452         |\n",
       "| Chandigarh        |   32              |   29              |   42              |   51              |   41              |   56              |   66              |   49              |   366             |   1055450         |\n",
       "\n"
      ],
      "text/plain": [
       "  STATE.UT          X12TO3AM X3TO6AM X6TO9AM X9TO12AM X12TO3PM X3TO6PM X6TO9PM\n",
       "1 A & N Islands        4        6      25      28       55       36      41   \n",
       "2 Andhra Pradesh    3336     4466    4312    5631     5882     6669    7177   \n",
       "3 Arunachal Pradesh    6        5      13      24       26       45      36   \n",
       "4 Assam              212      277     939    1475     1225     1438    1023   \n",
       "5 Bihar              672      987    1429    1429     1460     1421    1262   \n",
       "6 Chandigarh          32       29      42      51       41       56      66   \n",
       "  X9TO12PM Total Population\n",
       "1   23       218    380581 \n",
       "2 5759     43232  49577103 \n",
       "3   30       185   1383727 \n",
       "4  555      7144  31205576 \n",
       "5  871      9531 104099452 \n",
       "6   49       366   1055450 "
      ]
     },
     "metadata": {},
     "output_type": "display_data"
    }
   ],
   "source": [
    "head(road)"
   ]
  },
  {
   "cell_type": "markdown",
   "metadata": {},
   "source": [
    "As you can see, the columns mention the states/UT and also mention various times of the day and the number of cases that happen in that interval.It is a small dataset, containing only the number of accidents state-wise according to the time at which they happen. I have added a new parameter, population of that state so that we can understand the proportion of accidents that happen as per the population of that state. \n",
    "\n",
    "From the preliminary examination of the data, the questions that I can ask is:\n",
    "1. Which are the states with highest number of accidents?\n",
    "2. What are the reasons behind high number?\n",
    "3. Which hours observe the highest accidents?\n",
    "4. Does the above vary across the states?\n",
    "5. Does population have any relation with number of accidents?\n",
    "\n",
    "Now I am going to look across the data to find answers to these questions. \n",
    "But first, I am going to see if there are any missing values in our dataset."
   ]
  },
  {
   "cell_type": "code",
   "execution_count": 4,
   "metadata": {},
   "outputs": [
    {
     "data": {
      "text/html": [
       "<table>\n",
       "<thead><tr><th scope=col>STATE.UT</th><th scope=col>X12TO3AM</th><th scope=col>X3TO6AM</th><th scope=col>X6TO9AM</th><th scope=col>X9TO12AM</th><th scope=col>X12TO3PM</th><th scope=col>X3TO6PM</th><th scope=col>X6TO9PM</th><th scope=col>X9TO12PM</th><th scope=col>Total</th><th scope=col>Population</th></tr></thead>\n",
       "<tbody>\n",
       "\t<tr><td>FALSE</td><td>FALSE</td><td>FALSE</td><td>FALSE</td><td>FALSE</td><td>FALSE</td><td>FALSE</td><td>FALSE</td><td>FALSE</td><td>FALSE</td><td>FALSE</td></tr>\n",
       "\t<tr><td>FALSE</td><td>FALSE</td><td>FALSE</td><td>FALSE</td><td>FALSE</td><td>FALSE</td><td>FALSE</td><td>FALSE</td><td>FALSE</td><td>FALSE</td><td>FALSE</td></tr>\n",
       "\t<tr><td>FALSE</td><td>FALSE</td><td>FALSE</td><td>FALSE</td><td>FALSE</td><td>FALSE</td><td>FALSE</td><td>FALSE</td><td>FALSE</td><td>FALSE</td><td>FALSE</td></tr>\n",
       "\t<tr><td>FALSE</td><td>FALSE</td><td>FALSE</td><td>FALSE</td><td>FALSE</td><td>FALSE</td><td>FALSE</td><td>FALSE</td><td>FALSE</td><td>FALSE</td><td>FALSE</td></tr>\n",
       "\t<tr><td>FALSE</td><td>FALSE</td><td>FALSE</td><td>FALSE</td><td>FALSE</td><td>FALSE</td><td>FALSE</td><td>FALSE</td><td>FALSE</td><td>FALSE</td><td>FALSE</td></tr>\n",
       "\t<tr><td>FALSE</td><td>FALSE</td><td>FALSE</td><td>FALSE</td><td>FALSE</td><td>FALSE</td><td>FALSE</td><td>FALSE</td><td>FALSE</td><td>FALSE</td><td>FALSE</td></tr>\n",
       "\t<tr><td>FALSE</td><td>FALSE</td><td>FALSE</td><td>FALSE</td><td>FALSE</td><td>FALSE</td><td>FALSE</td><td>FALSE</td><td>FALSE</td><td>FALSE</td><td>FALSE</td></tr>\n",
       "\t<tr><td>FALSE</td><td>FALSE</td><td>FALSE</td><td>FALSE</td><td>FALSE</td><td>FALSE</td><td>FALSE</td><td>FALSE</td><td>FALSE</td><td>FALSE</td><td>FALSE</td></tr>\n",
       "\t<tr><td>FALSE</td><td>FALSE</td><td>FALSE</td><td>FALSE</td><td>FALSE</td><td>FALSE</td><td>FALSE</td><td>FALSE</td><td>FALSE</td><td>FALSE</td><td>FALSE</td></tr>\n",
       "\t<tr><td>FALSE</td><td>FALSE</td><td>FALSE</td><td>FALSE</td><td>FALSE</td><td>FALSE</td><td>FALSE</td><td>FALSE</td><td>FALSE</td><td>FALSE</td><td>FALSE</td></tr>\n",
       "\t<tr><td>FALSE</td><td>FALSE</td><td>FALSE</td><td>FALSE</td><td>FALSE</td><td>FALSE</td><td>FALSE</td><td>FALSE</td><td>FALSE</td><td>FALSE</td><td>FALSE</td></tr>\n",
       "\t<tr><td>FALSE</td><td>FALSE</td><td>FALSE</td><td>FALSE</td><td>FALSE</td><td>FALSE</td><td>FALSE</td><td>FALSE</td><td>FALSE</td><td>FALSE</td><td>FALSE</td></tr>\n",
       "\t<tr><td>FALSE</td><td>FALSE</td><td>FALSE</td><td>FALSE</td><td>FALSE</td><td>FALSE</td><td>FALSE</td><td>FALSE</td><td>FALSE</td><td>FALSE</td><td>FALSE</td></tr>\n",
       "\t<tr><td>FALSE</td><td>FALSE</td><td>FALSE</td><td>FALSE</td><td>FALSE</td><td>FALSE</td><td>FALSE</td><td>FALSE</td><td>FALSE</td><td>FALSE</td><td>FALSE</td></tr>\n",
       "\t<tr><td>FALSE</td><td>FALSE</td><td>FALSE</td><td>FALSE</td><td>FALSE</td><td>FALSE</td><td>FALSE</td><td>FALSE</td><td>FALSE</td><td>FALSE</td><td>FALSE</td></tr>\n",
       "\t<tr><td>FALSE</td><td>FALSE</td><td>FALSE</td><td>FALSE</td><td>FALSE</td><td>FALSE</td><td>FALSE</td><td>FALSE</td><td>FALSE</td><td>FALSE</td><td>FALSE</td></tr>\n",
       "\t<tr><td>FALSE</td><td>FALSE</td><td>FALSE</td><td>FALSE</td><td>FALSE</td><td>FALSE</td><td>FALSE</td><td>FALSE</td><td>FALSE</td><td>FALSE</td><td>FALSE</td></tr>\n",
       "\t<tr><td>FALSE</td><td>FALSE</td><td>FALSE</td><td>FALSE</td><td>FALSE</td><td>FALSE</td><td>FALSE</td><td>FALSE</td><td>FALSE</td><td>FALSE</td><td>FALSE</td></tr>\n",
       "\t<tr><td>FALSE</td><td>FALSE</td><td>FALSE</td><td>FALSE</td><td>FALSE</td><td>FALSE</td><td>FALSE</td><td>FALSE</td><td>FALSE</td><td>FALSE</td><td>FALSE</td></tr>\n",
       "\t<tr><td>FALSE</td><td>FALSE</td><td>FALSE</td><td>FALSE</td><td>FALSE</td><td>FALSE</td><td>FALSE</td><td>FALSE</td><td>FALSE</td><td>FALSE</td><td>FALSE</td></tr>\n",
       "\t<tr><td>FALSE</td><td>FALSE</td><td>FALSE</td><td>FALSE</td><td>FALSE</td><td>FALSE</td><td>FALSE</td><td>FALSE</td><td>FALSE</td><td>FALSE</td><td>FALSE</td></tr>\n",
       "\t<tr><td>FALSE</td><td>FALSE</td><td>FALSE</td><td>FALSE</td><td>FALSE</td><td>FALSE</td><td>FALSE</td><td>FALSE</td><td>FALSE</td><td>FALSE</td><td>FALSE</td></tr>\n",
       "\t<tr><td>FALSE</td><td>FALSE</td><td>FALSE</td><td>FALSE</td><td>FALSE</td><td>FALSE</td><td>FALSE</td><td>FALSE</td><td>FALSE</td><td>FALSE</td><td>FALSE</td></tr>\n",
       "\t<tr><td>FALSE</td><td>FALSE</td><td>FALSE</td><td>FALSE</td><td>FALSE</td><td>FALSE</td><td>FALSE</td><td>FALSE</td><td>FALSE</td><td>FALSE</td><td>FALSE</td></tr>\n",
       "\t<tr><td>FALSE</td><td>FALSE</td><td>FALSE</td><td>FALSE</td><td>FALSE</td><td>FALSE</td><td>FALSE</td><td>FALSE</td><td>FALSE</td><td>FALSE</td><td>FALSE</td></tr>\n",
       "\t<tr><td>FALSE</td><td>FALSE</td><td>FALSE</td><td>FALSE</td><td>FALSE</td><td>FALSE</td><td>FALSE</td><td>FALSE</td><td>FALSE</td><td>FALSE</td><td>FALSE</td></tr>\n",
       "\t<tr><td>FALSE</td><td>FALSE</td><td>FALSE</td><td>FALSE</td><td>FALSE</td><td>FALSE</td><td>FALSE</td><td>FALSE</td><td>FALSE</td><td>FALSE</td><td>FALSE</td></tr>\n",
       "\t<tr><td>FALSE</td><td>FALSE</td><td>FALSE</td><td>FALSE</td><td>FALSE</td><td>FALSE</td><td>FALSE</td><td>FALSE</td><td>FALSE</td><td>FALSE</td><td>FALSE</td></tr>\n",
       "\t<tr><td>FALSE</td><td>FALSE</td><td>FALSE</td><td>FALSE</td><td>FALSE</td><td>FALSE</td><td>FALSE</td><td>FALSE</td><td>FALSE</td><td>FALSE</td><td>FALSE</td></tr>\n",
       "\t<tr><td>FALSE</td><td>FALSE</td><td>FALSE</td><td>FALSE</td><td>FALSE</td><td>FALSE</td><td>FALSE</td><td>FALSE</td><td>FALSE</td><td>FALSE</td><td>FALSE</td></tr>\n",
       "\t<tr><td>FALSE</td><td>FALSE</td><td>FALSE</td><td>FALSE</td><td>FALSE</td><td>FALSE</td><td>FALSE</td><td>FALSE</td><td>FALSE</td><td>FALSE</td><td>FALSE</td></tr>\n",
       "\t<tr><td>FALSE</td><td>FALSE</td><td>FALSE</td><td>FALSE</td><td>FALSE</td><td>FALSE</td><td>FALSE</td><td>FALSE</td><td>FALSE</td><td>FALSE</td><td>FALSE</td></tr>\n",
       "\t<tr><td>FALSE</td><td>FALSE</td><td>FALSE</td><td>FALSE</td><td>FALSE</td><td>FALSE</td><td>FALSE</td><td>FALSE</td><td>FALSE</td><td>FALSE</td><td>FALSE</td></tr>\n",
       "\t<tr><td>FALSE</td><td>FALSE</td><td>FALSE</td><td>FALSE</td><td>FALSE</td><td>FALSE</td><td>FALSE</td><td>FALSE</td><td>FALSE</td><td>FALSE</td><td>FALSE</td></tr>\n",
       "\t<tr><td>FALSE</td><td>FALSE</td><td>FALSE</td><td>FALSE</td><td>FALSE</td><td>FALSE</td><td>FALSE</td><td>FALSE</td><td>FALSE</td><td>FALSE</td><td>FALSE</td></tr>\n",
       "</tbody>\n",
       "</table>\n"
      ],
      "text/latex": [
       "\\begin{tabular}{lllllllllll}\n",
       " STATE.UT & X12TO3AM & X3TO6AM & X6TO9AM & X9TO12AM & X12TO3PM & X3TO6PM & X6TO9PM & X9TO12PM & Total & Population\\\\\n",
       "\\hline\n",
       "\t FALSE & FALSE & FALSE & FALSE & FALSE & FALSE & FALSE & FALSE & FALSE & FALSE & FALSE\\\\\n",
       "\t FALSE & FALSE & FALSE & FALSE & FALSE & FALSE & FALSE & FALSE & FALSE & FALSE & FALSE\\\\\n",
       "\t FALSE & FALSE & FALSE & FALSE & FALSE & FALSE & FALSE & FALSE & FALSE & FALSE & FALSE\\\\\n",
       "\t FALSE & FALSE & FALSE & FALSE & FALSE & FALSE & FALSE & FALSE & FALSE & FALSE & FALSE\\\\\n",
       "\t FALSE & FALSE & FALSE & FALSE & FALSE & FALSE & FALSE & FALSE & FALSE & FALSE & FALSE\\\\\n",
       "\t FALSE & FALSE & FALSE & FALSE & FALSE & FALSE & FALSE & FALSE & FALSE & FALSE & FALSE\\\\\n",
       "\t FALSE & FALSE & FALSE & FALSE & FALSE & FALSE & FALSE & FALSE & FALSE & FALSE & FALSE\\\\\n",
       "\t FALSE & FALSE & FALSE & FALSE & FALSE & FALSE & FALSE & FALSE & FALSE & FALSE & FALSE\\\\\n",
       "\t FALSE & FALSE & FALSE & FALSE & FALSE & FALSE & FALSE & FALSE & FALSE & FALSE & FALSE\\\\\n",
       "\t FALSE & FALSE & FALSE & FALSE & FALSE & FALSE & FALSE & FALSE & FALSE & FALSE & FALSE\\\\\n",
       "\t FALSE & FALSE & FALSE & FALSE & FALSE & FALSE & FALSE & FALSE & FALSE & FALSE & FALSE\\\\\n",
       "\t FALSE & FALSE & FALSE & FALSE & FALSE & FALSE & FALSE & FALSE & FALSE & FALSE & FALSE\\\\\n",
       "\t FALSE & FALSE & FALSE & FALSE & FALSE & FALSE & FALSE & FALSE & FALSE & FALSE & FALSE\\\\\n",
       "\t FALSE & FALSE & FALSE & FALSE & FALSE & FALSE & FALSE & FALSE & FALSE & FALSE & FALSE\\\\\n",
       "\t FALSE & FALSE & FALSE & FALSE & FALSE & FALSE & FALSE & FALSE & FALSE & FALSE & FALSE\\\\\n",
       "\t FALSE & FALSE & FALSE & FALSE & FALSE & FALSE & FALSE & FALSE & FALSE & FALSE & FALSE\\\\\n",
       "\t FALSE & FALSE & FALSE & FALSE & FALSE & FALSE & FALSE & FALSE & FALSE & FALSE & FALSE\\\\\n",
       "\t FALSE & FALSE & FALSE & FALSE & FALSE & FALSE & FALSE & FALSE & FALSE & FALSE & FALSE\\\\\n",
       "\t FALSE & FALSE & FALSE & FALSE & FALSE & FALSE & FALSE & FALSE & FALSE & FALSE & FALSE\\\\\n",
       "\t FALSE & FALSE & FALSE & FALSE & FALSE & FALSE & FALSE & FALSE & FALSE & FALSE & FALSE\\\\\n",
       "\t FALSE & FALSE & FALSE & FALSE & FALSE & FALSE & FALSE & FALSE & FALSE & FALSE & FALSE\\\\\n",
       "\t FALSE & FALSE & FALSE & FALSE & FALSE & FALSE & FALSE & FALSE & FALSE & FALSE & FALSE\\\\\n",
       "\t FALSE & FALSE & FALSE & FALSE & FALSE & FALSE & FALSE & FALSE & FALSE & FALSE & FALSE\\\\\n",
       "\t FALSE & FALSE & FALSE & FALSE & FALSE & FALSE & FALSE & FALSE & FALSE & FALSE & FALSE\\\\\n",
       "\t FALSE & FALSE & FALSE & FALSE & FALSE & FALSE & FALSE & FALSE & FALSE & FALSE & FALSE\\\\\n",
       "\t FALSE & FALSE & FALSE & FALSE & FALSE & FALSE & FALSE & FALSE & FALSE & FALSE & FALSE\\\\\n",
       "\t FALSE & FALSE & FALSE & FALSE & FALSE & FALSE & FALSE & FALSE & FALSE & FALSE & FALSE\\\\\n",
       "\t FALSE & FALSE & FALSE & FALSE & FALSE & FALSE & FALSE & FALSE & FALSE & FALSE & FALSE\\\\\n",
       "\t FALSE & FALSE & FALSE & FALSE & FALSE & FALSE & FALSE & FALSE & FALSE & FALSE & FALSE\\\\\n",
       "\t FALSE & FALSE & FALSE & FALSE & FALSE & FALSE & FALSE & FALSE & FALSE & FALSE & FALSE\\\\\n",
       "\t FALSE & FALSE & FALSE & FALSE & FALSE & FALSE & FALSE & FALSE & FALSE & FALSE & FALSE\\\\\n",
       "\t FALSE & FALSE & FALSE & FALSE & FALSE & FALSE & FALSE & FALSE & FALSE & FALSE & FALSE\\\\\n",
       "\t FALSE & FALSE & FALSE & FALSE & FALSE & FALSE & FALSE & FALSE & FALSE & FALSE & FALSE\\\\\n",
       "\t FALSE & FALSE & FALSE & FALSE & FALSE & FALSE & FALSE & FALSE & FALSE & FALSE & FALSE\\\\\n",
       "\t FALSE & FALSE & FALSE & FALSE & FALSE & FALSE & FALSE & FALSE & FALSE & FALSE & FALSE\\\\\n",
       "\\end{tabular}\n"
      ],
      "text/markdown": [
       "\n",
       "| STATE.UT | X12TO3AM | X3TO6AM | X6TO9AM | X9TO12AM | X12TO3PM | X3TO6PM | X6TO9PM | X9TO12PM | Total | Population |\n",
       "|---|---|---|---|---|---|---|---|---|---|---|\n",
       "| FALSE | FALSE | FALSE | FALSE | FALSE | FALSE | FALSE | FALSE | FALSE | FALSE | FALSE |\n",
       "| FALSE | FALSE | FALSE | FALSE | FALSE | FALSE | FALSE | FALSE | FALSE | FALSE | FALSE |\n",
       "| FALSE | FALSE | FALSE | FALSE | FALSE | FALSE | FALSE | FALSE | FALSE | FALSE | FALSE |\n",
       "| FALSE | FALSE | FALSE | FALSE | FALSE | FALSE | FALSE | FALSE | FALSE | FALSE | FALSE |\n",
       "| FALSE | FALSE | FALSE | FALSE | FALSE | FALSE | FALSE | FALSE | FALSE | FALSE | FALSE |\n",
       "| FALSE | FALSE | FALSE | FALSE | FALSE | FALSE | FALSE | FALSE | FALSE | FALSE | FALSE |\n",
       "| FALSE | FALSE | FALSE | FALSE | FALSE | FALSE | FALSE | FALSE | FALSE | FALSE | FALSE |\n",
       "| FALSE | FALSE | FALSE | FALSE | FALSE | FALSE | FALSE | FALSE | FALSE | FALSE | FALSE |\n",
       "| FALSE | FALSE | FALSE | FALSE | FALSE | FALSE | FALSE | FALSE | FALSE | FALSE | FALSE |\n",
       "| FALSE | FALSE | FALSE | FALSE | FALSE | FALSE | FALSE | FALSE | FALSE | FALSE | FALSE |\n",
       "| FALSE | FALSE | FALSE | FALSE | FALSE | FALSE | FALSE | FALSE | FALSE | FALSE | FALSE |\n",
       "| FALSE | FALSE | FALSE | FALSE | FALSE | FALSE | FALSE | FALSE | FALSE | FALSE | FALSE |\n",
       "| FALSE | FALSE | FALSE | FALSE | FALSE | FALSE | FALSE | FALSE | FALSE | FALSE | FALSE |\n",
       "| FALSE | FALSE | FALSE | FALSE | FALSE | FALSE | FALSE | FALSE | FALSE | FALSE | FALSE |\n",
       "| FALSE | FALSE | FALSE | FALSE | FALSE | FALSE | FALSE | FALSE | FALSE | FALSE | FALSE |\n",
       "| FALSE | FALSE | FALSE | FALSE | FALSE | FALSE | FALSE | FALSE | FALSE | FALSE | FALSE |\n",
       "| FALSE | FALSE | FALSE | FALSE | FALSE | FALSE | FALSE | FALSE | FALSE | FALSE | FALSE |\n",
       "| FALSE | FALSE | FALSE | FALSE | FALSE | FALSE | FALSE | FALSE | FALSE | FALSE | FALSE |\n",
       "| FALSE | FALSE | FALSE | FALSE | FALSE | FALSE | FALSE | FALSE | FALSE | FALSE | FALSE |\n",
       "| FALSE | FALSE | FALSE | FALSE | FALSE | FALSE | FALSE | FALSE | FALSE | FALSE | FALSE |\n",
       "| FALSE | FALSE | FALSE | FALSE | FALSE | FALSE | FALSE | FALSE | FALSE | FALSE | FALSE |\n",
       "| FALSE | FALSE | FALSE | FALSE | FALSE | FALSE | FALSE | FALSE | FALSE | FALSE | FALSE |\n",
       "| FALSE | FALSE | FALSE | FALSE | FALSE | FALSE | FALSE | FALSE | FALSE | FALSE | FALSE |\n",
       "| FALSE | FALSE | FALSE | FALSE | FALSE | FALSE | FALSE | FALSE | FALSE | FALSE | FALSE |\n",
       "| FALSE | FALSE | FALSE | FALSE | FALSE | FALSE | FALSE | FALSE | FALSE | FALSE | FALSE |\n",
       "| FALSE | FALSE | FALSE | FALSE | FALSE | FALSE | FALSE | FALSE | FALSE | FALSE | FALSE |\n",
       "| FALSE | FALSE | FALSE | FALSE | FALSE | FALSE | FALSE | FALSE | FALSE | FALSE | FALSE |\n",
       "| FALSE | FALSE | FALSE | FALSE | FALSE | FALSE | FALSE | FALSE | FALSE | FALSE | FALSE |\n",
       "| FALSE | FALSE | FALSE | FALSE | FALSE | FALSE | FALSE | FALSE | FALSE | FALSE | FALSE |\n",
       "| FALSE | FALSE | FALSE | FALSE | FALSE | FALSE | FALSE | FALSE | FALSE | FALSE | FALSE |\n",
       "| FALSE | FALSE | FALSE | FALSE | FALSE | FALSE | FALSE | FALSE | FALSE | FALSE | FALSE |\n",
       "| FALSE | FALSE | FALSE | FALSE | FALSE | FALSE | FALSE | FALSE | FALSE | FALSE | FALSE |\n",
       "| FALSE | FALSE | FALSE | FALSE | FALSE | FALSE | FALSE | FALSE | FALSE | FALSE | FALSE |\n",
       "| FALSE | FALSE | FALSE | FALSE | FALSE | FALSE | FALSE | FALSE | FALSE | FALSE | FALSE |\n",
       "| FALSE | FALSE | FALSE | FALSE | FALSE | FALSE | FALSE | FALSE | FALSE | FALSE | FALSE |\n",
       "\n"
      ],
      "text/plain": [
       "      STATE.UT X12TO3AM X3TO6AM X6TO9AM X9TO12AM X12TO3PM X3TO6PM X6TO9PM\n",
       " [1,] FALSE    FALSE    FALSE   FALSE   FALSE    FALSE    FALSE   FALSE  \n",
       " [2,] FALSE    FALSE    FALSE   FALSE   FALSE    FALSE    FALSE   FALSE  \n",
       " [3,] FALSE    FALSE    FALSE   FALSE   FALSE    FALSE    FALSE   FALSE  \n",
       " [4,] FALSE    FALSE    FALSE   FALSE   FALSE    FALSE    FALSE   FALSE  \n",
       " [5,] FALSE    FALSE    FALSE   FALSE   FALSE    FALSE    FALSE   FALSE  \n",
       " [6,] FALSE    FALSE    FALSE   FALSE   FALSE    FALSE    FALSE   FALSE  \n",
       " [7,] FALSE    FALSE    FALSE   FALSE   FALSE    FALSE    FALSE   FALSE  \n",
       " [8,] FALSE    FALSE    FALSE   FALSE   FALSE    FALSE    FALSE   FALSE  \n",
       " [9,] FALSE    FALSE    FALSE   FALSE   FALSE    FALSE    FALSE   FALSE  \n",
       "[10,] FALSE    FALSE    FALSE   FALSE   FALSE    FALSE    FALSE   FALSE  \n",
       "[11,] FALSE    FALSE    FALSE   FALSE   FALSE    FALSE    FALSE   FALSE  \n",
       "[12,] FALSE    FALSE    FALSE   FALSE   FALSE    FALSE    FALSE   FALSE  \n",
       "[13,] FALSE    FALSE    FALSE   FALSE   FALSE    FALSE    FALSE   FALSE  \n",
       "[14,] FALSE    FALSE    FALSE   FALSE   FALSE    FALSE    FALSE   FALSE  \n",
       "[15,] FALSE    FALSE    FALSE   FALSE   FALSE    FALSE    FALSE   FALSE  \n",
       "[16,] FALSE    FALSE    FALSE   FALSE   FALSE    FALSE    FALSE   FALSE  \n",
       "[17,] FALSE    FALSE    FALSE   FALSE   FALSE    FALSE    FALSE   FALSE  \n",
       "[18,] FALSE    FALSE    FALSE   FALSE   FALSE    FALSE    FALSE   FALSE  \n",
       "[19,] FALSE    FALSE    FALSE   FALSE   FALSE    FALSE    FALSE   FALSE  \n",
       "[20,] FALSE    FALSE    FALSE   FALSE   FALSE    FALSE    FALSE   FALSE  \n",
       "[21,] FALSE    FALSE    FALSE   FALSE   FALSE    FALSE    FALSE   FALSE  \n",
       "[22,] FALSE    FALSE    FALSE   FALSE   FALSE    FALSE    FALSE   FALSE  \n",
       "[23,] FALSE    FALSE    FALSE   FALSE   FALSE    FALSE    FALSE   FALSE  \n",
       "[24,] FALSE    FALSE    FALSE   FALSE   FALSE    FALSE    FALSE   FALSE  \n",
       "[25,] FALSE    FALSE    FALSE   FALSE   FALSE    FALSE    FALSE   FALSE  \n",
       "[26,] FALSE    FALSE    FALSE   FALSE   FALSE    FALSE    FALSE   FALSE  \n",
       "[27,] FALSE    FALSE    FALSE   FALSE   FALSE    FALSE    FALSE   FALSE  \n",
       "[28,] FALSE    FALSE    FALSE   FALSE   FALSE    FALSE    FALSE   FALSE  \n",
       "[29,] FALSE    FALSE    FALSE   FALSE   FALSE    FALSE    FALSE   FALSE  \n",
       "[30,] FALSE    FALSE    FALSE   FALSE   FALSE    FALSE    FALSE   FALSE  \n",
       "[31,] FALSE    FALSE    FALSE   FALSE   FALSE    FALSE    FALSE   FALSE  \n",
       "[32,] FALSE    FALSE    FALSE   FALSE   FALSE    FALSE    FALSE   FALSE  \n",
       "[33,] FALSE    FALSE    FALSE   FALSE   FALSE    FALSE    FALSE   FALSE  \n",
       "[34,] FALSE    FALSE    FALSE   FALSE   FALSE    FALSE    FALSE   FALSE  \n",
       "[35,] FALSE    FALSE    FALSE   FALSE   FALSE    FALSE    FALSE   FALSE  \n",
       "      X9TO12PM Total Population\n",
       " [1,] FALSE    FALSE FALSE     \n",
       " [2,] FALSE    FALSE FALSE     \n",
       " [3,] FALSE    FALSE FALSE     \n",
       " [4,] FALSE    FALSE FALSE     \n",
       " [5,] FALSE    FALSE FALSE     \n",
       " [6,] FALSE    FALSE FALSE     \n",
       " [7,] FALSE    FALSE FALSE     \n",
       " [8,] FALSE    FALSE FALSE     \n",
       " [9,] FALSE    FALSE FALSE     \n",
       "[10,] FALSE    FALSE FALSE     \n",
       "[11,] FALSE    FALSE FALSE     \n",
       "[12,] FALSE    FALSE FALSE     \n",
       "[13,] FALSE    FALSE FALSE     \n",
       "[14,] FALSE    FALSE FALSE     \n",
       "[15,] FALSE    FALSE FALSE     \n",
       "[16,] FALSE    FALSE FALSE     \n",
       "[17,] FALSE    FALSE FALSE     \n",
       "[18,] FALSE    FALSE FALSE     \n",
       "[19,] FALSE    FALSE FALSE     \n",
       "[20,] FALSE    FALSE FALSE     \n",
       "[21,] FALSE    FALSE FALSE     \n",
       "[22,] FALSE    FALSE FALSE     \n",
       "[23,] FALSE    FALSE FALSE     \n",
       "[24,] FALSE    FALSE FALSE     \n",
       "[25,] FALSE    FALSE FALSE     \n",
       "[26,] FALSE    FALSE FALSE     \n",
       "[27,] FALSE    FALSE FALSE     \n",
       "[28,] FALSE    FALSE FALSE     \n",
       "[29,] FALSE    FALSE FALSE     \n",
       "[30,] FALSE    FALSE FALSE     \n",
       "[31,] FALSE    FALSE FALSE     \n",
       "[32,] FALSE    FALSE FALSE     \n",
       "[33,] FALSE    FALSE FALSE     \n",
       "[34,] FALSE    FALSE FALSE     \n",
       "[35,] FALSE    FALSE FALSE     "
      ]
     },
     "metadata": {},
     "output_type": "display_data"
    }
   ],
   "source": [
    "is.na(road)"
   ]
  },
  {
   "cell_type": "markdown",
   "metadata": {},
   "source": [
    "All the false in the matrix denote that there is no missing value in our dataset. If there was, we would have done some imputations. Now, let us look at the datatype of all the available values in our dataset. Checking this always helps while doing an analysis. Otherwise, we might be applying numerical operation to some data which might be a string or an object."
   ]
  },
  {
   "cell_type": "code",
   "execution_count": 5,
   "metadata": {},
   "outputs": [
    {
     "data": {
      "text/html": [
       "<dl class=dl-horizontal>\n",
       "\t<dt>STATE.UT</dt>\n",
       "\t\t<dd>'factor'</dd>\n",
       "\t<dt>X12TO3AM</dt>\n",
       "\t\t<dd>'integer'</dd>\n",
       "\t<dt>X3TO6AM</dt>\n",
       "\t\t<dd>'integer'</dd>\n",
       "\t<dt>X6TO9AM</dt>\n",
       "\t\t<dd>'integer'</dd>\n",
       "\t<dt>X9TO12AM</dt>\n",
       "\t\t<dd>'integer'</dd>\n",
       "\t<dt>X12TO3PM</dt>\n",
       "\t\t<dd>'integer'</dd>\n",
       "\t<dt>X3TO6PM</dt>\n",
       "\t\t<dd>'integer'</dd>\n",
       "\t<dt>X6TO9PM</dt>\n",
       "\t\t<dd>'integer'</dd>\n",
       "\t<dt>X9TO12PM</dt>\n",
       "\t\t<dd>'integer'</dd>\n",
       "\t<dt>Total</dt>\n",
       "\t\t<dd>'integer'</dd>\n",
       "\t<dt>Population</dt>\n",
       "\t\t<dd>'integer'</dd>\n",
       "</dl>\n"
      ],
      "text/latex": [
       "\\begin{description*}\n",
       "\\item[STATE.UT] 'factor'\n",
       "\\item[X12TO3AM] 'integer'\n",
       "\\item[X3TO6AM] 'integer'\n",
       "\\item[X6TO9AM] 'integer'\n",
       "\\item[X9TO12AM] 'integer'\n",
       "\\item[X12TO3PM] 'integer'\n",
       "\\item[X3TO6PM] 'integer'\n",
       "\\item[X6TO9PM] 'integer'\n",
       "\\item[X9TO12PM] 'integer'\n",
       "\\item[Total] 'integer'\n",
       "\\item[Population] 'integer'\n",
       "\\end{description*}\n"
      ],
      "text/markdown": [
       "STATE.UT\n",
       ":   'factor'X12TO3AM\n",
       ":   'integer'X3TO6AM\n",
       ":   'integer'X6TO9AM\n",
       ":   'integer'X9TO12AM\n",
       ":   'integer'X12TO3PM\n",
       ":   'integer'X3TO6PM\n",
       ":   'integer'X6TO9PM\n",
       ":   'integer'X9TO12PM\n",
       ":   'integer'Total\n",
       ":   'integer'Population\n",
       ":   'integer'\n",
       "\n"
      ],
      "text/plain": [
       "  STATE.UT   X12TO3AM    X3TO6AM    X6TO9AM   X9TO12AM   X12TO3PM    X3TO6PM \n",
       "  \"factor\"  \"integer\"  \"integer\"  \"integer\"  \"integer\"  \"integer\"  \"integer\" \n",
       "   X6TO9PM   X9TO12PM      Total Population \n",
       " \"integer\"  \"integer\"  \"integer\"  \"integer\" "
      ]
     },
     "metadata": {},
     "output_type": "display_data"
    }
   ],
   "source": [
    "sapply(road, class)"
   ]
  },
  {
   "cell_type": "markdown",
   "metadata": {},
   "source": [
    "Since most of the values are integer, we can safely assume that we can perform numerical operations on the data. Now we will be finding mean and median of various data and look for disparities across states. Let us also find a transpose of the road dataframe which will be useful for our further anlysis. "
   ]
  },
  {
   "cell_type": "code",
   "execution_count": 7,
   "metadata": {},
   "outputs": [
    {
     "data": {
      "text/html": [
       "<table>\n",
       "<tbody>\n",
       "\t<tr><th scope=row>STATE.UT</th><td>A &amp; N Islands</td><td>Andhra Pradesh   </td><td>Arunachal Pradesh</td><td>Assam            </td><td>Bihar            </td><td>Chandigarh       </td><td>Chhattisgarh     </td><td>D &amp; N Haveli </td><td>Daman &amp; Diu  </td><td>Delhi            </td><td>...              </td><td>Odisha           </td><td>Puducherry       </td><td>Punjab           </td><td>Rajasthan        </td><td>Sikkim           </td><td>Tamil Nadu       </td><td>Tripura          </td><td>Uttar Pradesh    </td><td>Uttarakhand      </td><td>West Bengal      </td></tr>\n",
       "\t<tr><th scope=row>X12TO3AM</th><td>   4             </td><td>3336             </td><td>   6             </td><td> 212             </td><td> 672             </td><td>  32             </td><td> 648             </td><td>   1             </td><td>   3             </td><td> 757             </td><td>...              </td><td> 661             </td><td>  28             </td><td> 387             </td><td>1128             </td><td>   6             </td><td>2685             </td><td>  15             </td><td>2106             </td><td>  61             </td><td>1455             </td></tr>\n",
       "\t<tr><th scope=row>X3TO6AM</th><td>   6             </td><td>4466             </td><td>   5             </td><td> 277             </td><td> 987             </td><td>  29             </td><td> 849             </td><td>   1             </td><td>   0             </td><td> 581             </td><td>...              </td><td> 880             </td><td>  23             </td><td> 392             </td><td>1428             </td><td>   8             </td><td>4057             </td><td>  21             </td><td>2824             </td><td>  81             </td><td>1634             </td></tr>\n",
       "\t<tr><th scope=row>X6TO9AM</th><td>  25             </td><td>4312             </td><td>  13             </td><td> 939             </td><td>1429             </td><td>  42             </td><td>1469             </td><td>   8             </td><td>   4             </td><td> 867             </td><td>...              </td><td>1099             </td><td>  58             </td><td> 683             </td><td>2622             </td><td>  15             </td><td>7973             </td><td>  53             </td><td>3376             </td><td>  95             </td><td>2022             </td></tr>\n",
       "\t<tr><th scope=row>X9TO12AM</th><td>  28             </td><td>5631             </td><td>  24             </td><td>1475             </td><td>1429             </td><td>  51             </td><td>1916             </td><td>   7             </td><td>   6             </td><td> 925             </td><td>...              </td><td>1413             </td><td> 109             </td><td> 842             </td><td>3706             </td><td>  17             </td><td>9593             </td><td> 199             </td><td>3547             </td><td> 122             </td><td>2998             </td></tr>\n",
       "\t<tr><th scope=row>X12TO3PM</th><td>  55             </td><td>5882             </td><td>  26             </td><td>1225             </td><td>1460             </td><td>  41             </td><td>1702             </td><td>  13             </td><td>   5             </td><td> 909             </td><td>...              </td><td>1283             </td><td>  97             </td><td> 943             </td><td>4234             </td><td>  12             </td><td>9955             </td><td> 123             </td><td>3522             </td><td> 117             </td><td>2570             </td></tr>\n",
       "</tbody>\n",
       "</table>\n"
      ],
      "text/latex": [
       "\\begin{tabular}{r|lllllllllllllllllllllllllllllllllll}\n",
       "\tSTATE.UT & A \\& N Islands   & Andhra Pradesh    & Arunachal Pradesh & Assam             & Bihar             & Chandigarh        & Chhattisgarh      & D \\& N Haveli    & Daman \\& Diu     & Delhi             & ...               & Odisha            & Puducherry        & Punjab            & Rajasthan         & Sikkim            & Tamil Nadu        & Tripura           & Uttar Pradesh     & Uttarakhand       & West Bengal      \\\\\n",
       "\tX12TO3AM &    4              & 3336              &    6              &  212              &  672              &   32              &  648              &    1              &    3              &  757              & ...               &  661              &   28              &  387              & 1128              &    6              & 2685              &   15              & 2106              &   61              & 1455             \\\\\n",
       "\tX3TO6AM &    6              & 4466              &    5              &  277              &  987              &   29              &  849              &    1              &    0              &  581              & ...               &  880              &   23              &  392              & 1428              &    8              & 4057              &   21              & 2824              &   81              & 1634             \\\\\n",
       "\tX6TO9AM &   25              & 4312              &   13              &  939              & 1429              &   42              & 1469              &    8              &    4              &  867              & ...               & 1099              &   58              &  683              & 2622              &   15              & 7973              &   53              & 3376              &   95              & 2022             \\\\\n",
       "\tX9TO12AM &   28              & 5631              &   24              & 1475              & 1429              &   51              & 1916              &    7              &    6              &  925              & ...               & 1413              &  109              &  842              & 3706              &   17              & 9593              &  199              & 3547              &  122              & 2998             \\\\\n",
       "\tX12TO3PM &   55              & 5882              &   26              & 1225              & 1460              &   41              & 1702              &   13              &    5              &  909              & ...               & 1283              &   97              &  943              & 4234              &   12              & 9955              &  123              & 3522              &  117              & 2570             \\\\\n",
       "\\end{tabular}\n"
      ],
      "text/markdown": [
       "\n",
       "| STATE.UT | A & N Islands     | Andhra Pradesh    | Arunachal Pradesh | Assam             | Bihar             | Chandigarh        | Chhattisgarh      | D & N Haveli      | Daman & Diu       | Delhi             | ...               | Odisha            | Puducherry        | Punjab            | Rajasthan         | Sikkim            | Tamil Nadu        | Tripura           | Uttar Pradesh     | Uttarakhand       | West Bengal       |\n",
       "| X12TO3AM |    4              | 3336              |    6              |  212              |  672              |   32              |  648              |    1              |    3              |  757              | ...               |  661              |   28              |  387              | 1128              |    6              | 2685              |   15              | 2106              |   61              | 1455              |\n",
       "| X3TO6AM |    6              | 4466              |    5              |  277              |  987              |   29              |  849              |    1              |    0              |  581              | ...               |  880              |   23              |  392              | 1428              |    8              | 4057              |   21              | 2824              |   81              | 1634              |\n",
       "| X6TO9AM |   25              | 4312              |   13              |  939              | 1429              |   42              | 1469              |    8              |    4              |  867              | ...               | 1099              |   58              |  683              | 2622              |   15              | 7973              |   53              | 3376              |   95              | 2022              |\n",
       "| X9TO12AM |   28              | 5631              |   24              | 1475              | 1429              |   51              | 1916              |    7              |    6              |  925              | ...               | 1413              |  109              |  842              | 3706              |   17              | 9593              |  199              | 3547              |  122              | 2998              |\n",
       "| X12TO3PM |   55              | 5882              |   26              | 1225              | 1460              |   41              | 1702              |   13              |    5              |  909              | ...               | 1283              |   97              |  943              | 4234              |   12              | 9955              |  123              | 3522              |  117              | 2570              |\n",
       "\n"
      ],
      "text/plain": [
       "         [,1]          [,2]           [,3]              [,4]  [,5]  [,6]      \n",
       "STATE.UT A & N Islands Andhra Pradesh Arunachal Pradesh Assam Bihar Chandigarh\n",
       "X12TO3AM    4          3336              6               212   672    32      \n",
       "X3TO6AM     6          4466              5               277   987    29      \n",
       "X6TO9AM    25          4312             13               939  1429    42      \n",
       "X9TO12AM   28          5631             24              1475  1429    51      \n",
       "X12TO3PM   55          5882             26              1225  1460    41      \n",
       "         [,7]         [,8]         [,9]        [,10]  [,11] [,12]  [,13]     \n",
       "STATE.UT Chhattisgarh D & N Haveli Daman & Diu Delhi  ...   Odisha Puducherry\n",
       "X12TO3AM  648            1            3         757   ...    661     28      \n",
       "X3TO6AM   849            1            0         581   ...    880     23      \n",
       "X6TO9AM  1469            8            4         867   ...   1099     58      \n",
       "X9TO12AM 1916            7            6         925   ...   1413    109      \n",
       "X12TO3PM 1702           13            5         909   ...   1283     97      \n",
       "         [,14]  [,15]     [,16]  [,17]      [,18]   [,19]         [,20]      \n",
       "STATE.UT Punjab Rajasthan Sikkim Tamil Nadu Tripura Uttar Pradesh Uttarakhand\n",
       "X12TO3AM  387   1128         6   2685         15    2106            61       \n",
       "X3TO6AM   392   1428         8   4057         21    2824            81       \n",
       "X6TO9AM   683   2622        15   7973         53    3376            95       \n",
       "X9TO12AM  842   3706        17   9593        199    3547           122       \n",
       "X12TO3PM  943   4234        12   9955        123    3522           117       \n",
       "         [,21]      \n",
       "STATE.UT West Bengal\n",
       "X12TO3AM 1455       \n",
       "X3TO6AM  1634       \n",
       "X6TO9AM  2022       \n",
       "X9TO12AM 2998       \n",
       "X12TO3PM 2570       "
      ]
     },
     "metadata": {},
     "output_type": "display_data"
    }
   ],
   "source": [
    "road1=t(road)\n",
    "head(road1)"
   ]
  },
  {
   "cell_type": "markdown",
   "metadata": {},
   "source": [
    "## Descriptive analysis"
   ]
  },
  {
   "cell_type": "markdown",
   "metadata": {},
   "source": [
    "We will try to focus on the measure of central tendency in this column and have a look at how data is being shaped. At first, I am going to find out the mean of accidents that occur at different time of the day. "
   ]
  },
  {
   "cell_type": "code",
   "execution_count": 24,
   "metadata": {},
   "outputs": [
    {
     "data": {
      "text/html": [
       "<table>\n",
       "<thead><tr><th scope=col>X12TO3AM</th><th scope=col>X3TO6AM</th><th scope=col>X6TO9AM</th><th scope=col>X9TO12AM</th><th scope=col>X12TO3PM</th><th scope=col>X3TO6PM</th><th scope=col>X6TO9PM</th><th scope=col>X9TO12PM</th></tr></thead>\n",
       "<tbody>\n",
       "\t<tr><td>   4</td><td>   6</td><td>  25</td><td>  28</td><td>  55</td><td>  36</td><td>  41</td><td>  23</td></tr>\n",
       "\t<tr><td>3336</td><td>4466</td><td>4312</td><td>5631</td><td>5882</td><td>6669</td><td>7177</td><td>5759</td></tr>\n",
       "\t<tr><td>   6</td><td>   5</td><td>  13</td><td>  24</td><td>  26</td><td>  45</td><td>  36</td><td>  30</td></tr>\n",
       "\t<tr><td> 212</td><td> 277</td><td> 939</td><td>1475</td><td>1225</td><td>1438</td><td>1023</td><td> 555</td></tr>\n",
       "\t<tr><td> 672</td><td> 987</td><td>1429</td><td>1429</td><td>1460</td><td>1421</td><td>1262</td><td> 871</td></tr>\n",
       "\t<tr><td>  32</td><td>  29</td><td>  42</td><td>  51</td><td>  41</td><td>  56</td><td>  66</td><td>  49</td></tr>\n",
       "</tbody>\n",
       "</table>\n"
      ],
      "text/latex": [
       "\\begin{tabular}{r|llllllll}\n",
       " X12TO3AM & X3TO6AM & X6TO9AM & X9TO12AM & X12TO3PM & X3TO6PM & X6TO9PM & X9TO12PM\\\\\n",
       "\\hline\n",
       "\t    4 &    6 &   25 &   28 &   55 &   36 &   41 &   23\\\\\n",
       "\t 3336 & 4466 & 4312 & 5631 & 5882 & 6669 & 7177 & 5759\\\\\n",
       "\t    6 &    5 &   13 &   24 &   26 &   45 &   36 &   30\\\\\n",
       "\t  212 &  277 &  939 & 1475 & 1225 & 1438 & 1023 &  555\\\\\n",
       "\t  672 &  987 & 1429 & 1429 & 1460 & 1421 & 1262 &  871\\\\\n",
       "\t   32 &   29 &   42 &   51 &   41 &   56 &   66 &   49\\\\\n",
       "\\end{tabular}\n"
      ],
      "text/markdown": [
       "\n",
       "| X12TO3AM | X3TO6AM | X6TO9AM | X9TO12AM | X12TO3PM | X3TO6PM | X6TO9PM | X9TO12PM |\n",
       "|---|---|---|---|---|---|---|---|\n",
       "|    4 |    6 |   25 |   28 |   55 |   36 |   41 |   23 |\n",
       "| 3336 | 4466 | 4312 | 5631 | 5882 | 6669 | 7177 | 5759 |\n",
       "|    6 |    5 |   13 |   24 |   26 |   45 |   36 |   30 |\n",
       "|  212 |  277 |  939 | 1475 | 1225 | 1438 | 1023 |  555 |\n",
       "|  672 |  987 | 1429 | 1429 | 1460 | 1421 | 1262 |  871 |\n",
       "|   32 |   29 |   42 |   51 |   41 |   56 |   66 |   49 |\n",
       "\n"
      ],
      "text/plain": [
       "  X12TO3AM X3TO6AM X6TO9AM X9TO12AM X12TO3PM X3TO6PM X6TO9PM X9TO12PM\n",
       "1    4        6      25      28       55       36      41      23    \n",
       "2 3336     4466    4312    5631     5882     6669    7177    5759    \n",
       "3    6        5      13      24       26       45      36      30    \n",
       "4  212      277     939    1475     1225     1438    1023     555    \n",
       "5  672      987    1429    1429     1460     1421    1262     871    \n",
       "6   32       29      42      51       41       56      66      49    "
      ]
     },
     "metadata": {},
     "output_type": "display_data"
    }
   ],
   "source": [
    "road_mean <- road[,2:9]\n",
    "head(road_mean)"
   ]
  },
  {
   "cell_type": "code",
   "execution_count": 29,
   "metadata": {},
   "outputs": [
    {
     "data": {
      "text/html": [
       "<dl class=dl-horizontal>\n",
       "\t<dt>X12TO3AM</dt>\n",
       "\t\t<dd>744.8</dd>\n",
       "\t<dt>X3TO6AM</dt>\n",
       "\t\t<dd>930.114285714286</dd>\n",
       "\t<dt>X6TO9AM</dt>\n",
       "\t\t<dd>1493.68571428571</dd>\n",
       "\t<dt>X9TO12AM</dt>\n",
       "\t\t<dd>1972.62857142857</dd>\n",
       "\t<dt>X12TO3PM</dt>\n",
       "\t\t<dd>1969.08571428571</dd>\n",
       "\t<dt>X3TO6PM</dt>\n",
       "\t\t<dd>2223.71428571429</dd>\n",
       "\t<dt>X6TO9PM</dt>\n",
       "\t\t<dd>2180.97142857143</dd>\n",
       "\t<dt>X9TO12PM</dt>\n",
       "\t\t<dd>1367.8</dd>\n",
       "</dl>\n"
      ],
      "text/latex": [
       "\\begin{description*}\n",
       "\\item[X12TO3AM] 744.8\n",
       "\\item[X3TO6AM] 930.114285714286\n",
       "\\item[X6TO9AM] 1493.68571428571\n",
       "\\item[X9TO12AM] 1972.62857142857\n",
       "\\item[X12TO3PM] 1969.08571428571\n",
       "\\item[X3TO6PM] 2223.71428571429\n",
       "\\item[X6TO9PM] 2180.97142857143\n",
       "\\item[X9TO12PM] 1367.8\n",
       "\\end{description*}\n"
      ],
      "text/markdown": [
       "X12TO3AM\n",
       ":   744.8X3TO6AM\n",
       ":   930.114285714286X6TO9AM\n",
       ":   1493.68571428571X9TO12AM\n",
       ":   1972.62857142857X12TO3PM\n",
       ":   1969.08571428571X3TO6PM\n",
       ":   2223.71428571429X6TO9PM\n",
       ":   2180.97142857143X9TO12PM\n",
       ":   1367.8\n",
       "\n"
      ],
      "text/plain": [
       " X12TO3AM   X3TO6AM   X6TO9AM  X9TO12AM  X12TO3PM   X3TO6PM   X6TO9PM  X9TO12PM \n",
       " 744.8000  930.1143 1493.6857 1972.6286 1969.0857 2223.7143 2180.9714 1367.8000 "
      ]
     },
     "metadata": {},
     "output_type": "display_data"
    }
   ],
   "source": [
    "m1<-colMeans(road_mean)\n",
    "m1"
   ]
  },
  {
   "cell_type": "markdown",
   "metadata": {},
   "source": [
    "We get a vector which contains mean values of accidents as per their time intervals. Since this is not a dataframe, we will not be able to plot it conventionally. "
   ]
  },
  {
   "cell_type": "code",
   "execution_count": 58,
   "metadata": {},
   "outputs": [
    {
     "data": {
      "image/png": "[encoded data removed]",
      "text/plain": [
       "Plot with title \"Accident analysis in India\""
      ]
     },
     "metadata": {},
     "output_type": "display_data"
    }
   ],
   "source": [
    "plot(m1, xlab=\"Time intervals\", ylab=\"Number of accidents\", main=\"Accident analysis in India\", ylim=c(0,3000), pch=15, col=\"blue\")"
   ]
  },
  {
   "cell_type": "markdown",
   "metadata": {},
   "source": [
    "As we can see from the plot, the accidents between the interval 4-7 are the highest which correspond to 9AM to 9PM. The maximum accidents occur between 3 to 9 PM which is a crucial time to watch out for accidents. \n",
    "\n",
    "We can also create boxplots of these time slots together to get a better idea about the range, mean and mode of our data."
   ]
  },
  {
   "cell_type": "code",
   "execution_count": 68,
   "metadata": {},
   "outputs": [
    {
     "data": {
      "image/png": "[encoded data removed]",
      "text/plain": [
       "Plot with title \"Accidents by time intervals\""
      ]
     },
     "metadata": {},
     "output_type": "display_data"
    }
   ],
   "source": [
    "boxplot(road$X12TO3AM,road$X3TO6AM,road$X6TO9AM,road$X9TO12AM,road$X12TO3PM,road$X3TO6PM,road$X6TO9PM,road$X9TO12PM,main='Accidents by time intervals')"
   ]
  },
  {
   "cell_type": "markdown",
   "metadata": {},
   "source": [
    "A boxplot is a standardized way of displaying the distribution of data based on a five number summary (“minimum”, first quartile (Q1), median, third quartile (Q3), and “maximum”). It can tell you about your outliers and what their values are. It can also tell you if your data is symmetrical, how tightly your data is grouped, and if and how your data is skewed.\n",
    "\n",
    "The data above indicates inclusion of outliers in our data, as visible from the data. For a more detailed view on boxplots, please read the following guide:\n",
    "\n",
    "https://towardsdatascience.com/understanding-boxplots-5e2df7bcbd51#:~:text=A%20boxplot%20is%20a%20standardized,and%20what%20their%20values%20are.\n",
    "\n",
    "We have analyzed the data together by grouping them together. Now I am going to include a few codes on how to deal with these data individually. I am going to perform the operation on the data from 12 to 3 AM. "
   ]
  },
  {
   "cell_type": "code",
   "execution_count": 69,
   "metadata": {},
   "outputs": [
    {
     "data": {
      "text/html": [
       "744.8"
      ],
      "text/latex": [
       "744.8"
      ],
      "text/markdown": [
       "744.8"
      ],
      "text/plain": [
       "[1] 744.8"
      ]
     },
     "metadata": {},
     "output_type": "display_data"
    }
   ],
   "source": [
    "mean(road[[\"X12TO3AM\"]])"
   ]
  },
  {
   "cell_type": "code",
   "execution_count": 70,
   "metadata": {},
   "outputs": [
    {
     "data": {
      "text/html": [
       "212"
      ],
      "text/latex": [
       "212"
      ],
      "text/markdown": [
       "212"
      ],
      "text/plain": [
       "[1] 212"
      ]
     },
     "metadata": {},
     "output_type": "display_data"
    }
   ],
   "source": [
    "median(road[[\"X12TO3AM\"]])"
   ]
  },
  {
   "cell_type": "markdown",
   "metadata": {},
   "source": [
    "As you can see, both the data are far away from each other which means that there are a lot of values which lie of extreme. To find out how the data is dispersed, we will plot it. "
   ]
  },
  {
   "cell_type": "code",
   "execution_count": 74,
   "metadata": {},
   "outputs": [
    {
     "data": {
      "image/png": "[encoded data removed]",
      "text/plain": [
       "Plot with title \"Accidents between 12 to 3 AM\""
      ]
     },
     "metadata": {},
     "output_type": "display_data"
    }
   ],
   "source": [
    "outlier_values <- boxplot.stats(road$X12TO3AM)$out  # outlier values.\n",
    "boxplot(road$X12TO3AM, main=\"Accidents between 12 to 3 AM\", boxwex=0.1)\n",
    "mtext(paste(\"Outliers: \", paste(outlier_values, collapse=\", \")), cex=0.6)"
   ]
  },
  {
   "cell_type": "markdown",
   "metadata": {},
   "source": []
  },
  {
   "cell_type": "code",
   "execution_count": 59,
   "metadata": {},
   "outputs": [
    {
     "data": {
      "text/html": [
       "563.206896551724"
      ],
      "text/latex": [
       "563.206896551724"
      ],
      "text/markdown": [
       "563.206896551724"
      ],
      "text/plain": [
       "[1] 563.2069"
      ]
     },
     "metadata": {},
     "output_type": "display_data"
    }
   ],
   "source": [
    "mean(road[[\"X12TO3AM\"]], trim=0.1)"
   ]
  },
  {
   "cell_type": "code",
   "execution_count": 60,
   "metadata": {},
   "outputs": [
    {
     "data": {
      "text/html": [
       "292.857142857143"
      ],
      "text/latex": [
       "292.857142857143"
      ],
      "text/markdown": [
       "292.857142857143"
      ],
      "text/plain": [
       "[1] 292.8571"
      ]
     },
     "metadata": {},
     "output_type": "display_data"
    }
   ],
   "source": [
    "mean(road[[\"X12TO3AM\"]], trim=0.4)"
   ]
  },
  {
   "cell_type": "code",
   "execution_count": 61,
   "metadata": {},
   "outputs": [
    {
     "data": {
      "text/html": [
       "1026.85323998641"
      ],
      "text/latex": [
       "1026.85323998641"
      ],
      "text/markdown": [
       "1026.85323998641"
      ],
      "text/plain": [
       "[1] 1026.853"
      ]
     },
     "metadata": {},
     "output_type": "display_data"
    }
   ],
   "source": [
    "sd(road[[\"X12TO3AM\"]])"
   ]
  },
  {
   "cell_type": "code",
   "execution_count": 62,
   "metadata": {},
   "outputs": [
    {
     "data": {
      "text/html": [
       "935"
      ],
      "text/latex": [
       "935"
      ],
      "text/markdown": [
       "935"
      ],
      "text/plain": [
       "[1] 935"
      ]
     },
     "metadata": {},
     "output_type": "display_data"
    }
   ],
   "source": [
    "IQR(road[[\"X12TO3AM\"]])"
   ]
  },
  {
   "cell_type": "code",
   "execution_count": 63,
   "metadata": {},
   "outputs": [
    {
     "data": {
      "text/html": [
       "312.8286"
      ],
      "text/latex": [
       "312.8286"
      ],
      "text/markdown": [
       "312.8286"
      ],
      "text/plain": [
       "[1] 312.8286"
      ]
     },
     "metadata": {},
     "output_type": "display_data"
    }
   ],
   "source": [
    "mad(road[[\"X12TO3AM\"]])"
   ]
  },
  {
   "cell_type": "code",
   "execution_count": 64,
   "metadata": {},
   "outputs": [
    {
     "data": {
      "text/html": [
       "<table>\n",
       "<thead><tr><th scope=col>STATE.UT</th><th scope=col>X12TO3AM</th><th scope=col>X3TO6AM</th><th scope=col>X6TO9AM</th><th scope=col>X9TO12AM</th><th scope=col>X12TO3PM</th><th scope=col>X3TO6PM</th><th scope=col>X6TO9PM</th><th scope=col>X9TO12PM</th><th scope=col>Total</th><th scope=col>Population</th><th scope=col>accidents_permn</th></tr></thead>\n",
       "<tbody>\n",
       "\t<tr><td><span style=white-space:pre-wrap>A &amp; N Islands    </span></td><td><span style=white-space:pre-wrap>   4</span>                 </td><td><span style=white-space:pre-wrap>   6</span>                 </td><td><span style=white-space:pre-wrap>  25</span>                 </td><td><span style=white-space:pre-wrap>  28</span>                 </td><td><span style=white-space:pre-wrap>  55</span>                 </td><td><span style=white-space:pre-wrap>   36</span>                </td><td><span style=white-space:pre-wrap>   41</span>                </td><td><span style=white-space:pre-wrap>  23</span>                 </td><td><span style=white-space:pre-wrap>  218</span>                </td><td><span style=white-space:pre-wrap>   380581</span>            </td><td>5.728084e+01                                                 </td></tr>\n",
       "\t<tr><td>Andhra Pradesh   </td><td>3336             </td><td>4466             </td><td>4312             </td><td>5631             </td><td>5882             </td><td> 6669            </td><td> 7177            </td><td>5759             </td><td>43232            </td><td> 49577103        </td><td>8.720155e+01     </td></tr>\n",
       "\t<tr><td>Arunachal Pradesh</td><td>   6             </td><td>   5             </td><td>  13             </td><td>  24             </td><td>  26             </td><td>   45            </td><td>   36            </td><td>  30             </td><td>  185            </td><td>  1383727        </td><td>1.336969e+01     </td></tr>\n",
       "\t<tr><td>Assam            </td><td> 212             </td><td> 277             </td><td> 939             </td><td>1475             </td><td>1225             </td><td> 1438            </td><td> 1023            </td><td> 555             </td><td> 7144            </td><td> 31205576        </td><td>2.289334e+01     </td></tr>\n",
       "\t<tr><td>Bihar            </td><td> 672             </td><td> 987             </td><td>1429             </td><td>1429             </td><td>1460             </td><td> 1421            </td><td> 1262            </td><td> 871             </td><td> 9531            </td><td>104099452        </td><td>9.155668e+00     </td></tr>\n",
       "\t<tr><td>Chandigarh       </td><td>  32             </td><td>  29             </td><td>  42             </td><td>  51             </td><td>  41             </td><td>   56            </td><td>   66            </td><td>  49             </td><td>  366            </td><td>  1055450        </td><td>3.467715e+01     </td></tr>\n",
       "\t<tr><td>Chhattisgarh     </td><td> 648             </td><td> 849             </td><td>1469             </td><td>1916             </td><td>1702             </td><td> 2102            </td><td> 2072            </td><td>1382             </td><td>12140            </td><td> 25545198        </td><td>4.752361e+01     </td></tr>\n",
       "\t<tr><td><span style=white-space:pre-wrap>D &amp; N Haveli     </span></td><td><span style=white-space:pre-wrap>   1</span>                 </td><td><span style=white-space:pre-wrap>   1</span>                 </td><td><span style=white-space:pre-wrap>   8</span>                 </td><td><span style=white-space:pre-wrap>   7</span>                 </td><td><span style=white-space:pre-wrap>  13</span>                 </td><td><span style=white-space:pre-wrap>   22</span>                </td><td><span style=white-space:pre-wrap>   27</span>                </td><td><span style=white-space:pre-wrap>   8</span>                 </td><td><span style=white-space:pre-wrap>   87</span>                </td><td><span style=white-space:pre-wrap>   585764</span>            </td><td>1.485240e+01                                                 </td></tr>\n",
       "\t<tr><td><span style=white-space:pre-wrap>Daman &amp; Diu      </span></td><td><span style=white-space:pre-wrap>   3</span>                 </td><td><span style=white-space:pre-wrap>   0</span>                 </td><td><span style=white-space:pre-wrap>   4</span>                 </td><td><span style=white-space:pre-wrap>   6</span>                 </td><td><span style=white-space:pre-wrap>   5</span>                 </td><td><span style=white-space:pre-wrap>    7</span>                </td><td><span style=white-space:pre-wrap>   12</span>                </td><td><span style=white-space:pre-wrap>   2</span>                 </td><td><span style=white-space:pre-wrap>   39</span>                </td><td> 16787941                                                    </td><td>2.323096e-01                                                 </td></tr>\n",
       "\t<tr><td>Delhi            </td><td> 757             </td><td> 581             </td><td> 867             </td><td> 925             </td><td> 909             </td><td> 1208            </td><td> 1502            </td><td>1561             </td><td> 8310            </td><td>  1458545        </td><td>5.697459e+02     </td></tr>\n",
       "\t<tr><td>Goa              </td><td> 189             </td><td> 173             </td><td> 371             </td><td> 712             </td><td> 752             </td><td>  791            </td><td>  785            </td><td> 457             </td><td> 4230            </td><td> 60439692        </td><td>6.998712e+00     </td></tr>\n",
       "\t<tr><td>Gujarat          </td><td>1232             </td><td>1541             </td><td>2496             </td><td>3595             </td><td>3328             </td><td> 3735            </td><td> 3791            </td><td>2434             </td><td>22152            </td><td> 25351462        </td><td>8.737958e+01     </td></tr>\n",
       "\t<tr><td>Haryana          </td><td> 726             </td><td> 868             </td><td>1459             </td><td>1646             </td><td>1493             </td><td> 1740            </td><td> 1887            </td><td>1224             </td><td>11043            </td><td>  6864602        </td><td>1.608688e+02     </td></tr>\n",
       "\t<tr><td>Himachal Pradesh </td><td> 199             </td><td> 183             </td><td> 418             </td><td> 517             </td><td> 517             </td><td>  603            </td><td>  558            </td><td> 330             </td><td> 3325            </td><td> 12267032        </td><td>2.710517e+01     </td></tr>\n",
       "\t<tr><td><span style=white-space:pre-wrap>Jammu &amp; Kashmir  </span></td><td> 168                                                         </td><td> 442                                                         </td><td> 693                                                         </td><td> 928                                                         </td><td>1195                                                         </td><td> 1126                                                        </td><td><span style=white-space:pre-wrap>  833</span>                </td><td> 393                                                         </td><td> 5778                                                        </td><td> 32988134                                                    </td><td>1.751539e+01                                                 </td></tr>\n",
       "\t<tr><td>Jharkhand        </td><td> 247             </td><td> 592             </td><td> 703             </td><td> 749             </td><td> 670             </td><td>  847            </td><td>  678            </td><td> 419             </td><td> 4905            </td><td> 61095297        </td><td>8.028441e+00     </td></tr>\n",
       "\t<tr><td>Karnataka        </td><td>3022             </td><td>3219             </td><td>4576             </td><td>6393             </td><td>6646             </td><td> 7119            </td><td> 7377            </td><td>5342             </td><td>43694            </td><td> 33406061        </td><td>1.307966e+02     </td></tr>\n",
       "\t<tr><td>Kerala           </td><td> 759             </td><td>1232             </td><td>4145             </td><td>6709             </td><td>6057             </td><td> 8172            </td><td> 6114            </td><td>2684             </td><td>35872            </td><td>   274000        </td><td>1.309197e+04     </td></tr>\n",
       "\t<tr><td>Lakshadweep      </td><td>   0             </td><td>   0             </td><td>   0             </td><td>   0             </td><td>   1             </td><td>    0            </td><td>    0            </td><td>   0             </td><td>    1            </td><td>    64473        </td><td>1.551037e+00     </td></tr>\n",
       "\t<tr><td>Madhya Pradesh   </td><td>1925             </td><td>2384             </td><td>5370             </td><td>7106             </td><td>7337             </td><td> 7030            </td><td> 5791            </td><td>2755             </td><td>39698            </td><td> 72626809        </td><td>5.466026e+01     </td></tr>\n",
       "\t<tr><td>Maharashtra      </td><td>3376             </td><td>3330             </td><td>4853             </td><td>6430             </td><td>6522             </td><td> 7126            </td><td> 7421            </td><td>5324             </td><td>44382            </td><td>112374333        </td><td>3.949478e+01     </td></tr>\n",
       "\t<tr><td>Manipur          </td><td>   7             </td><td>   8             </td><td>  47             </td><td> 162             </td><td> 148             </td><td>  173            </td><td>  141            </td><td>  49             </td><td>  735            </td><td>  2570390        </td><td>2.859488e+01     </td></tr>\n",
       "\t<tr><td>Meghalaya        </td><td>  10             </td><td>  19             </td><td>  30             </td><td>  45             </td><td>  59             </td><td>   55            </td><td>   50            </td><td>  33             </td><td>  301            </td><td>  2966889        </td><td>1.014531e+01     </td></tr>\n",
       "\t<tr><td>Mizoram          </td><td>   5             </td><td>  12             </td><td>  11             </td><td>   9             </td><td>  11             </td><td>   20            </td><td>   15            </td><td>  12             </td><td>   95            </td><td>  1097206        </td><td>8.658356e+00     </td></tr>\n",
       "\t<tr><td>Nagaland         </td><td>   0             </td><td>   2             </td><td>   3             </td><td>   3             </td><td>   8             </td><td>    6            </td><td>    5            </td><td>   1             </td><td>   28            </td><td>  1978502        </td><td>1.415212e+00     </td></tr>\n",
       "\t<tr><td>Odisha           </td><td> 661             </td><td> 880             </td><td>1099             </td><td>1413             </td><td>1283             </td><td> 1651            </td><td> 1564            </td><td>1089             </td><td> 9640            </td><td> 41974218        </td><td>2.296648e+01     </td></tr>\n",
       "\t<tr><td>Puducherry       </td><td>  28             </td><td>  23             </td><td>  58             </td><td> 109             </td><td>  97             </td><td>  179            </td><td>  115            </td><td>  62             </td><td>  671            </td><td>  1247953        </td><td>5.376805e+01     </td></tr>\n",
       "\t<tr><td>Punjab           </td><td> 387             </td><td> 392             </td><td> 683             </td><td> 842             </td><td> 943             </td><td>  998            </td><td> 1380            </td><td> 766             </td><td> 6391            </td><td> 27743338        </td><td>2.303616e+01     </td></tr>\n",
       "\t<tr><td>Rajasthan        </td><td>1128             </td><td>1428             </td><td>2622             </td><td>3706             </td><td>4234             </td><td> 4841            </td><td> 4215            </td><td>2465             </td><td>24639            </td><td> 68548437        </td><td>3.594393e+01     </td></tr>\n",
       "\t<tr><td>Sikkim           </td><td>   6             </td><td>   8             </td><td>  15             </td><td>  17             </td><td>  12             </td><td>   27            </td><td>   29            </td><td>  16             </td><td>  130            </td><td>   610577        </td><td>2.129134e+01     </td></tr>\n",
       "\t<tr><td>Tamil Nadu       </td><td>2685             </td><td>4057             </td><td>7973             </td><td>9593             </td><td>9955             </td><td>11902            </td><td>13927            </td><td>7158             </td><td>67250            </td><td> 72147030        </td><td>9.321243e+01     </td></tr>\n",
       "\t<tr><td>Tripura          </td><td>  15             </td><td>  21             </td><td>  53             </td><td> 199             </td><td> 123             </td><td>  161            </td><td>   96            </td><td>  48             </td><td>  716            </td><td>  3673917        </td><td>1.948874e+01     </td></tr>\n",
       "\t<tr><td>Uttar Pradesh    </td><td>2106             </td><td>2824             </td><td>3376             </td><td>3547             </td><td>3522             </td><td> 3929            </td><td> 4099            </td><td>2661             </td><td>26064            </td><td>199812341        </td><td>1.304424e+01     </td></tr>\n",
       "\t<tr><td>Uttarakhand      </td><td>  61             </td><td>  81             </td><td>  95             </td><td> 122             </td><td> 117             </td><td>  137            </td><td>  113            </td><td>  75             </td><td>  801            </td><td> 10086292        </td><td>7.941471e+00     </td></tr>\n",
       "\t<tr><td>West Bengal      </td><td>1455             </td><td>1634             </td><td>2022             </td><td>2998             </td><td>2570             </td><td> 2458            </td><td> 2132            </td><td>1836             </td><td>17105            </td><td> 91276115        </td><td>1.873984e+01     </td></tr>\n",
       "</tbody>\n",
       "</table>\n"
      ],
      "text/latex": [
       "\\begin{tabular}{r|llllllllllll}\n",
       " STATE.UT & X12TO3AM & X3TO6AM & X6TO9AM & X9TO12AM & X12TO3PM & X3TO6PM & X6TO9PM & X9TO12PM & Total & Population & accidents\\_permn\\\\\n",
       "\\hline\n",
       "\t A \\& N Islands     &    4                &    6                &   25                &   28                &   55                &    36               &    41               &   23                &   218               &    380581           & 5.728084e+01       \\\\\n",
       "\t Andhra Pradesh    & 3336              & 4466              & 4312              & 5631              & 5882              &  6669             &  7177             & 5759              & 43232             &  49577103         & 8.720155e+01     \\\\\n",
       "\t Arunachal Pradesh &    6              &    5              &   13              &   24              &   26              &    45             &    36             &   30              &   185             &   1383727         & 1.336969e+01     \\\\\n",
       "\t Assam             &  212              &  277              &  939              & 1475              & 1225              &  1438             &  1023             &  555              &  7144             &  31205576         & 2.289334e+01     \\\\\n",
       "\t Bihar             &  672              &  987              & 1429              & 1429              & 1460              &  1421             &  1262             &  871              &  9531             & 104099452         & 9.155668e+00     \\\\\n",
       "\t Chandigarh        &   32              &   29              &   42              &   51              &   41              &    56             &    66             &   49              &   366             &   1055450         & 3.467715e+01     \\\\\n",
       "\t Chhattisgarh      &  648              &  849              & 1469              & 1916              & 1702              &  2102             &  2072             & 1382              & 12140             &  25545198         & 4.752361e+01     \\\\\n",
       "\t D \\& N Haveli      &    1                &    1                &    8                &    7                &   13                &    22               &    27               &    8                &    87               &    585764           & 1.485240e+01       \\\\\n",
       "\t Daman \\& Diu       &    3                &    0                &    4                &    6                &    5                &     7               &    12               &    2                &    39               &  16787941           & 2.323096e-01       \\\\\n",
       "\t Delhi             &  757              &  581              &  867              &  925              &  909              &  1208             &  1502             & 1561              &  8310             &   1458545         & 5.697459e+02     \\\\\n",
       "\t Goa               &  189              &  173              &  371              &  712              &  752              &   791             &   785             &  457              &  4230             &  60439692         & 6.998712e+00     \\\\\n",
       "\t Gujarat           & 1232              & 1541              & 2496              & 3595              & 3328              &  3735             &  3791             & 2434              & 22152             &  25351462         & 8.737958e+01     \\\\\n",
       "\t Haryana           &  726              &  868              & 1459              & 1646              & 1493              &  1740             &  1887             & 1224              & 11043             &   6864602         & 1.608688e+02     \\\\\n",
       "\t Himachal Pradesh  &  199              &  183              &  418              &  517              &  517              &   603             &   558             &  330              &  3325             &  12267032         & 2.710517e+01     \\\\\n",
       "\t Jammu \\& Kashmir   &  168                &  442                &  693                &  928                & 1195                &  1126               &   833               &  393                &  5778               &  32988134           & 1.751539e+01       \\\\\n",
       "\t Jharkhand         &  247              &  592              &  703              &  749              &  670              &   847             &   678             &  419              &  4905             &  61095297         & 8.028441e+00     \\\\\n",
       "\t Karnataka         & 3022              & 3219              & 4576              & 6393              & 6646              &  7119             &  7377             & 5342              & 43694             &  33406061         & 1.307966e+02     \\\\\n",
       "\t Kerala            &  759              & 1232              & 4145              & 6709              & 6057              &  8172             &  6114             & 2684              & 35872             &    274000         & 1.309197e+04     \\\\\n",
       "\t Lakshadweep       &    0              &    0              &    0              &    0              &    1              &     0             &     0             &    0              &     1             &     64473         & 1.551037e+00     \\\\\n",
       "\t Madhya Pradesh    & 1925              & 2384              & 5370              & 7106              & 7337              &  7030             &  5791             & 2755              & 39698             &  72626809         & 5.466026e+01     \\\\\n",
       "\t Maharashtra       & 3376              & 3330              & 4853              & 6430              & 6522              &  7126             &  7421             & 5324              & 44382             & 112374333         & 3.949478e+01     \\\\\n",
       "\t Manipur           &    7              &    8              &   47              &  162              &  148              &   173             &   141             &   49              &   735             &   2570390         & 2.859488e+01     \\\\\n",
       "\t Meghalaya         &   10              &   19              &   30              &   45              &   59              &    55             &    50             &   33              &   301             &   2966889         & 1.014531e+01     \\\\\n",
       "\t Mizoram           &    5              &   12              &   11              &    9              &   11              &    20             &    15             &   12              &    95             &   1097206         & 8.658356e+00     \\\\\n",
       "\t Nagaland          &    0              &    2              &    3              &    3              &    8              &     6             &     5             &    1              &    28             &   1978502         & 1.415212e+00     \\\\\n",
       "\t Odisha            &  661              &  880              & 1099              & 1413              & 1283              &  1651             &  1564             & 1089              &  9640             &  41974218         & 2.296648e+01     \\\\\n",
       "\t Puducherry        &   28              &   23              &   58              &  109              &   97              &   179             &   115             &   62              &   671             &   1247953         & 5.376805e+01     \\\\\n",
       "\t Punjab            &  387              &  392              &  683              &  842              &  943              &   998             &  1380             &  766              &  6391             &  27743338         & 2.303616e+01     \\\\\n",
       "\t Rajasthan         & 1128              & 1428              & 2622              & 3706              & 4234              &  4841             &  4215             & 2465              & 24639             &  68548437         & 3.594393e+01     \\\\\n",
       "\t Sikkim            &    6              &    8              &   15              &   17              &   12              &    27             &    29             &   16              &   130             &    610577         & 2.129134e+01     \\\\\n",
       "\t Tamil Nadu        & 2685              & 4057              & 7973              & 9593              & 9955              & 11902             & 13927             & 7158              & 67250             &  72147030         & 9.321243e+01     \\\\\n",
       "\t Tripura           &   15              &   21              &   53              &  199              &  123              &   161             &    96             &   48              &   716             &   3673917         & 1.948874e+01     \\\\\n",
       "\t Uttar Pradesh     & 2106              & 2824              & 3376              & 3547              & 3522              &  3929             &  4099             & 2661              & 26064             & 199812341         & 1.304424e+01     \\\\\n",
       "\t Uttarakhand       &   61              &   81              &   95              &  122              &  117              &   137             &   113             &   75              &   801             &  10086292         & 7.941471e+00     \\\\\n",
       "\t West Bengal       & 1455              & 1634              & 2022              & 2998              & 2570              &  2458             &  2132             & 1836              & 17105             &  91276115         & 1.873984e+01     \\\\\n",
       "\\end{tabular}\n"
      ],
      "text/markdown": [
       "\n",
       "| STATE.UT | X12TO3AM | X3TO6AM | X6TO9AM | X9TO12AM | X12TO3PM | X3TO6PM | X6TO9PM | X9TO12PM | Total | Population | accidents_permn |\n",
       "|---|---|---|---|---|---|---|---|---|---|---|---|\n",
       "| A & N Islands     |    4              |    6              |   25              |   28              |   55              |    36             |    41             |   23              |   218             |    380581         | 5.728084e+01      |\n",
       "| Andhra Pradesh    | 3336              | 4466              | 4312              | 5631              | 5882              |  6669             |  7177             | 5759              | 43232             |  49577103         | 8.720155e+01      |\n",
       "| Arunachal Pradesh |    6              |    5              |   13              |   24              |   26              |    45             |    36             |   30              |   185             |   1383727         | 1.336969e+01      |\n",
       "| Assam             |  212              |  277              |  939              | 1475              | 1225              |  1438             |  1023             |  555              |  7144             |  31205576         | 2.289334e+01      |\n",
       "| Bihar             |  672              |  987              | 1429              | 1429              | 1460              |  1421             |  1262             |  871              |  9531             | 104099452         | 9.155668e+00      |\n",
       "| Chandigarh        |   32              |   29              |   42              |   51              |   41              |    56             |    66             |   49              |   366             |   1055450         | 3.467715e+01      |\n",
       "| Chhattisgarh      |  648              |  849              | 1469              | 1916              | 1702              |  2102             |  2072             | 1382              | 12140             |  25545198         | 4.752361e+01      |\n",
       "| D & N Haveli      |    1              |    1              |    8              |    7              |   13              |    22             |    27             |    8              |    87             |    585764         | 1.485240e+01      |\n",
       "| Daman & Diu       |    3              |    0              |    4              |    6              |    5              |     7             |    12             |    2              |    39             |  16787941         | 2.323096e-01      |\n",
       "| Delhi             |  757              |  581              |  867              |  925              |  909              |  1208             |  1502             | 1561              |  8310             |   1458545         | 5.697459e+02      |\n",
       "| Goa               |  189              |  173              |  371              |  712              |  752              |   791             |   785             |  457              |  4230             |  60439692         | 6.998712e+00      |\n",
       "| Gujarat           | 1232              | 1541              | 2496              | 3595              | 3328              |  3735             |  3791             | 2434              | 22152             |  25351462         | 8.737958e+01      |\n",
       "| Haryana           |  726              |  868              | 1459              | 1646              | 1493              |  1740             |  1887             | 1224              | 11043             |   6864602         | 1.608688e+02      |\n",
       "| Himachal Pradesh  |  199              |  183              |  418              |  517              |  517              |   603             |   558             |  330              |  3325             |  12267032         | 2.710517e+01      |\n",
       "| Jammu & Kashmir   |  168              |  442              |  693              |  928              | 1195              |  1126             |   833             |  393              |  5778             |  32988134         | 1.751539e+01      |\n",
       "| Jharkhand         |  247              |  592              |  703              |  749              |  670              |   847             |   678             |  419              |  4905             |  61095297         | 8.028441e+00      |\n",
       "| Karnataka         | 3022              | 3219              | 4576              | 6393              | 6646              |  7119             |  7377             | 5342              | 43694             |  33406061         | 1.307966e+02      |\n",
       "| Kerala            |  759              | 1232              | 4145              | 6709              | 6057              |  8172             |  6114             | 2684              | 35872             |    274000         | 1.309197e+04      |\n",
       "| Lakshadweep       |    0              |    0              |    0              |    0              |    1              |     0             |     0             |    0              |     1             |     64473         | 1.551037e+00      |\n",
       "| Madhya Pradesh    | 1925              | 2384              | 5370              | 7106              | 7337              |  7030             |  5791             | 2755              | 39698             |  72626809         | 5.466026e+01      |\n",
       "| Maharashtra       | 3376              | 3330              | 4853              | 6430              | 6522              |  7126             |  7421             | 5324              | 44382             | 112374333         | 3.949478e+01      |\n",
       "| Manipur           |    7              |    8              |   47              |  162              |  148              |   173             |   141             |   49              |   735             |   2570390         | 2.859488e+01      |\n",
       "| Meghalaya         |   10              |   19              |   30              |   45              |   59              |    55             |    50             |   33              |   301             |   2966889         | 1.014531e+01      |\n",
       "| Mizoram           |    5              |   12              |   11              |    9              |   11              |    20             |    15             |   12              |    95             |   1097206         | 8.658356e+00      |\n",
       "| Nagaland          |    0              |    2              |    3              |    3              |    8              |     6             |     5             |    1              |    28             |   1978502         | 1.415212e+00      |\n",
       "| Odisha            |  661              |  880              | 1099              | 1413              | 1283              |  1651             |  1564             | 1089              |  9640             |  41974218         | 2.296648e+01      |\n",
       "| Puducherry        |   28              |   23              |   58              |  109              |   97              |   179             |   115             |   62              |   671             |   1247953         | 5.376805e+01      |\n",
       "| Punjab            |  387              |  392              |  683              |  842              |  943              |   998             |  1380             |  766              |  6391             |  27743338         | 2.303616e+01      |\n",
       "| Rajasthan         | 1128              | 1428              | 2622              | 3706              | 4234              |  4841             |  4215             | 2465              | 24639             |  68548437         | 3.594393e+01      |\n",
       "| Sikkim            |    6              |    8              |   15              |   17              |   12              |    27             |    29             |   16              |   130             |    610577         | 2.129134e+01      |\n",
       "| Tamil Nadu        | 2685              | 4057              | 7973              | 9593              | 9955              | 11902             | 13927             | 7158              | 67250             |  72147030         | 9.321243e+01      |\n",
       "| Tripura           |   15              |   21              |   53              |  199              |  123              |   161             |    96             |   48              |   716             |   3673917         | 1.948874e+01      |\n",
       "| Uttar Pradesh     | 2106              | 2824              | 3376              | 3547              | 3522              |  3929             |  4099             | 2661              | 26064             | 199812341         | 1.304424e+01      |\n",
       "| Uttarakhand       |   61              |   81              |   95              |  122              |  117              |   137             |   113             |   75              |   801             |  10086292         | 7.941471e+00      |\n",
       "| West Bengal       | 1455              | 1634              | 2022              | 2998              | 2570              |  2458             |  2132             | 1836              | 17105             |  91276115         | 1.873984e+01      |\n",
       "\n"
      ],
      "text/plain": [
       "   STATE.UT          X12TO3AM X3TO6AM X6TO9AM X9TO12AM X12TO3PM X3TO6PM X6TO9PM\n",
       "1  A & N Islands        4        6      25      28       55        36      41  \n",
       "2  Andhra Pradesh    3336     4466    4312    5631     5882      6669    7177  \n",
       "3  Arunachal Pradesh    6        5      13      24       26        45      36  \n",
       "4  Assam              212      277     939    1475     1225      1438    1023  \n",
       "5  Bihar              672      987    1429    1429     1460      1421    1262  \n",
       "6  Chandigarh          32       29      42      51       41        56      66  \n",
       "7  Chhattisgarh       648      849    1469    1916     1702      2102    2072  \n",
       "8  D & N Haveli         1        1       8       7       13        22      27  \n",
       "9  Daman & Diu          3        0       4       6        5         7      12  \n",
       "10 Delhi              757      581     867     925      909      1208    1502  \n",
       "11 Goa                189      173     371     712      752       791     785  \n",
       "12 Gujarat           1232     1541    2496    3595     3328      3735    3791  \n",
       "13 Haryana            726      868    1459    1646     1493      1740    1887  \n",
       "14 Himachal Pradesh   199      183     418     517      517       603     558  \n",
       "15 Jammu & Kashmir    168      442     693     928     1195      1126     833  \n",
       "16 Jharkhand          247      592     703     749      670       847     678  \n",
       "17 Karnataka         3022     3219    4576    6393     6646      7119    7377  \n",
       "18 Kerala             759     1232    4145    6709     6057      8172    6114  \n",
       "19 Lakshadweep          0        0       0       0        1         0       0  \n",
       "20 Madhya Pradesh    1925     2384    5370    7106     7337      7030    5791  \n",
       "21 Maharashtra       3376     3330    4853    6430     6522      7126    7421  \n",
       "22 Manipur              7        8      47     162      148       173     141  \n",
       "23 Meghalaya           10       19      30      45       59        55      50  \n",
       "24 Mizoram              5       12      11       9       11        20      15  \n",
       "25 Nagaland             0        2       3       3        8         6       5  \n",
       "26 Odisha             661      880    1099    1413     1283      1651    1564  \n",
       "27 Puducherry          28       23      58     109       97       179     115  \n",
       "28 Punjab             387      392     683     842      943       998    1380  \n",
       "29 Rajasthan         1128     1428    2622    3706     4234      4841    4215  \n",
       "30 Sikkim               6        8      15      17       12        27      29  \n",
       "31 Tamil Nadu        2685     4057    7973    9593     9955     11902   13927  \n",
       "32 Tripura             15       21      53     199      123       161      96  \n",
       "33 Uttar Pradesh     2106     2824    3376    3547     3522      3929    4099  \n",
       "34 Uttarakhand         61       81      95     122      117       137     113  \n",
       "35 West Bengal       1455     1634    2022    2998     2570      2458    2132  \n",
       "   X9TO12PM Total Population accidents_permn\n",
       "1    23       218    380581  5.728084e+01   \n",
       "2  5759     43232  49577103  8.720155e+01   \n",
       "3    30       185   1383727  1.336969e+01   \n",
       "4   555      7144  31205576  2.289334e+01   \n",
       "5   871      9531 104099452  9.155668e+00   \n",
       "6    49       366   1055450  3.467715e+01   \n",
       "7  1382     12140  25545198  4.752361e+01   \n",
       "8     8        87    585764  1.485240e+01   \n",
       "9     2        39  16787941  2.323096e-01   \n",
       "10 1561      8310   1458545  5.697459e+02   \n",
       "11  457      4230  60439692  6.998712e+00   \n",
       "12 2434     22152  25351462  8.737958e+01   \n",
       "13 1224     11043   6864602  1.608688e+02   \n",
       "14  330      3325  12267032  2.710517e+01   \n",
       "15  393      5778  32988134  1.751539e+01   \n",
       "16  419      4905  61095297  8.028441e+00   \n",
       "17 5342     43694  33406061  1.307966e+02   \n",
       "18 2684     35872    274000  1.309197e+04   \n",
       "19    0         1     64473  1.551037e+00   \n",
       "20 2755     39698  72626809  5.466026e+01   \n",
       "21 5324     44382 112374333  3.949478e+01   \n",
       "22   49       735   2570390  2.859488e+01   \n",
       "23   33       301   2966889  1.014531e+01   \n",
       "24   12        95   1097206  8.658356e+00   \n",
       "25    1        28   1978502  1.415212e+00   \n",
       "26 1089      9640  41974218  2.296648e+01   \n",
       "27   62       671   1247953  5.376805e+01   \n",
       "28  766      6391  27743338  2.303616e+01   \n",
       "29 2465     24639  68548437  3.594393e+01   \n",
       "30   16       130    610577  2.129134e+01   \n",
       "31 7158     67250  72147030  9.321243e+01   \n",
       "32   48       716   3673917  1.948874e+01   \n",
       "33 2661     26064 199812341  1.304424e+01   \n",
       "34   75       801  10086292  7.941471e+00   \n",
       "35 1836     17105  91276115  1.873984e+01   "
      ]
     },
     "metadata": {},
     "output_type": "display_data"
    }
   ],
   "source": [
    "road <- transform(road, accidents_permn=  (Total*100000)/ Population)\n",
    "road"
   ]
  },
  {
   "cell_type": "code",
   "execution_count": 75,
   "metadata": {},
   "outputs": [
    {
     "data": {
      "text/html": [
       "<dl class=dl-horizontal>\n",
       "\t<dt>5%</dt>\n",
       "\t\t<dd>&lt;NA&gt;</dd>\n",
       "\t<dt>25%</dt>\n",
       "\t\t<dd>&lt;NA&gt;</dd>\n",
       "\t<dt>50%</dt>\n",
       "\t\t<dd>&lt;NA&gt;</dd>\n",
       "\t<dt>75%</dt>\n",
       "\t\t<dd>&lt;NA&gt;</dd>\n",
       "\t<dt>95%</dt>\n",
       "\t\t<dd>&lt;NA&gt;</dd>\n",
       "</dl>\n"
      ],
      "text/latex": [
       "\\begin{description*}\n",
       "\\item[5\\textbackslash{}\\%] <NA>\n",
       "\\item[25\\textbackslash{}\\%] <NA>\n",
       "\\item[50\\textbackslash{}\\%] <NA>\n",
       "\\item[75\\textbackslash{}\\%] <NA>\n",
       "\\item[95\\textbackslash{}\\%] <NA>\n",
       "\\end{description*}\n"
      ],
      "text/markdown": [
       "5%\n",
       ":   &lt;NA&gt;25%\n",
       ":   &lt;NA&gt;50%\n",
       ":   &lt;NA&gt;75%\n",
       ":   &lt;NA&gt;95%\n",
       ":   &lt;NA&gt;\n",
       "\n"
      ],
      "text/plain": [
       " 5% 25% 50% 75% 95% \n",
       " NA  NA  NA  NA  NA "
      ]
     },
     "metadata": {},
     "output_type": "display_data"
    }
   ],
   "source": [
    "quantile(road[[\"accidents_permn\"]], p=c(.05, .25, .5, .75, .95))"
   ]
  },
  {
   "cell_type": "code",
   "execution_count": null,
   "metadata": {},
   "outputs": [],
   "source": []
  }
 ],
 "metadata": {
  "kernelspec": {
   "display_name": "R",
   "language": "R",
   "name": "ir"
  },
  "language_info": {
   "codemirror_mode": "r",
   "file_extension": ".r",
   "mimetype": "text/x-r-source",
   "name": "R",
   "pygments_lexer": "r",
   "version": "3.6.1"
  }
 },
 "nbformat": 4,
 "nbformat_minor": 4
}
